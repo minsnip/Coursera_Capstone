{
 "cells": [
  {
   "cell_type": "markdown",
   "metadata": {},
   "source": [
    "### Import libraries"
   ]
  },
  {
   "cell_type": "code",
   "execution_count": 239,
   "metadata": {},
   "outputs": [],
   "source": [
    "# standard libraries\n",
    "import pandas as pd\n",
    "import numpy as np\n",
    "import matplotlib.pyplot as plt\n",
    "\n",
    "# geolocation data extraction\n",
    "from geopy.geocoders import Nominatim \n",
    "\n",
    "# handling  requests and working with json files\n",
    "import requests # library to handle requests\n",
    "import json # library to handle JSON files\n",
    "from pandas.io.json import json_normalize # tranform JSON file into a pandas dataframe\n",
    "\n",
    "# similarity measures between vectors\n",
    "from scipy.spatial import distance\n",
    "\n",
    "# clusterization\n",
    "from sklearn.cluster import KMeans\n",
    "from sklearn.preprocessing import StandardScaler\n",
    "from sklearn.metrics import silhouette_score\n"
   ]
  },
  {
   "cell_type": "markdown",
   "metadata": {},
   "source": [
    "## 1. Comparison of clients reviews profiles"
   ]
  },
  {
   "cell_type": "markdown",
   "metadata": {},
   "source": [
    "### 1.1 Data"
   ]
  },
  {
   "cell_type": "markdown",
   "metadata": {},
   "source": [
    "Data about guest reviews of Chicago hotels was taken from www.bookings.com website"
   ]
  },
  {
   "cell_type": "markdown",
   "metadata": {},
   "source": [
    "#### Review data about Chicago hotels"
   ]
  },
  {
   "cell_type": "code",
   "execution_count": 213,
   "metadata": {
    "scrolled": true
   },
   "outputs": [
    {
     "data": {
      "text/html": [
       "<div>\n",
       "<style scoped>\n",
       "    .dataframe tbody tr th:only-of-type {\n",
       "        vertical-align: middle;\n",
       "    }\n",
       "\n",
       "    .dataframe tbody tr th {\n",
       "        vertical-align: top;\n",
       "    }\n",
       "\n",
       "    .dataframe thead th {\n",
       "        text-align: right;\n",
       "    }\n",
       "</style>\n",
       "<table border=\"1\" class=\"dataframe\">\n",
       "  <thead>\n",
       "    <tr style=\"text-align: right;\">\n",
       "      <th></th>\n",
       "      <th>Name</th>\n",
       "      <th>Staff</th>\n",
       "      <th>Facilities</th>\n",
       "      <th>Cleanliness</th>\n",
       "      <th>Comfort</th>\n",
       "      <th>Value for money</th>\n",
       "      <th>Location</th>\n",
       "    </tr>\n",
       "  </thead>\n",
       "  <tbody>\n",
       "    <tr>\n",
       "      <td>0</td>\n",
       "      <td>Chicago Marriott Southwest at Burr Ridge</td>\n",
       "      <td>8.4</td>\n",
       "      <td>8.6</td>\n",
       "      <td>8.7</td>\n",
       "      <td>9.0</td>\n",
       "      <td>8.1</td>\n",
       "      <td>8.6</td>\n",
       "    </tr>\n",
       "    <tr>\n",
       "      <td>1</td>\n",
       "      <td>Chicago Marriott at Medical District/UIC</td>\n",
       "      <td>9.1</td>\n",
       "      <td>8.8</td>\n",
       "      <td>9.3</td>\n",
       "      <td>9.3</td>\n",
       "      <td>8.0</td>\n",
       "      <td>8.9</td>\n",
       "    </tr>\n",
       "    <tr>\n",
       "      <td>2</td>\n",
       "      <td>JW Marriott Chicago</td>\n",
       "      <td>8.7</td>\n",
       "      <td>8.5</td>\n",
       "      <td>8.7</td>\n",
       "      <td>8.7</td>\n",
       "      <td>7.7</td>\n",
       "      <td>8.9</td>\n",
       "    </tr>\n",
       "    <tr>\n",
       "      <td>3</td>\n",
       "      <td>Chicago Marriott Downtown Magnificent Mile</td>\n",
       "      <td>8.8</td>\n",
       "      <td>8.6</td>\n",
       "      <td>8.9</td>\n",
       "      <td>8.9</td>\n",
       "      <td>8.0</td>\n",
       "      <td>9.4</td>\n",
       "    </tr>\n",
       "    <tr>\n",
       "      <td>4</td>\n",
       "      <td>Marriott Marquis Chicago</td>\n",
       "      <td>8.9</td>\n",
       "      <td>9.1</td>\n",
       "      <td>9.3</td>\n",
       "      <td>9.3</td>\n",
       "      <td>8.0</td>\n",
       "      <td>8.9</td>\n",
       "    </tr>\n",
       "  </tbody>\n",
       "</table>\n",
       "</div>"
      ],
      "text/plain": [
       "                                         Name  Staff  Facilities  Cleanliness  \\\n",
       "0    Chicago Marriott Southwest at Burr Ridge    8.4         8.6          8.7   \n",
       "1    Chicago Marriott at Medical District/UIC    9.1         8.8          9.3   \n",
       "2                         JW Marriott Chicago    8.7         8.5          8.7   \n",
       "3  Chicago Marriott Downtown Magnificent Mile    8.8         8.6          8.9   \n",
       "4                    Marriott Marquis Chicago    8.9         9.1          9.3   \n",
       "\n",
       "   Comfort  Value for money  Location  \n",
       "0      9.0              8.1       8.6  \n",
       "1      9.3              8.0       8.9  \n",
       "2      8.7              7.7       8.9  \n",
       "3      8.9              8.0       9.4  \n",
       "4      9.3              8.0       8.9  "
      ]
     },
     "execution_count": 213,
     "metadata": {},
     "output_type": "execute_result"
    }
   ],
   "source": [
    "df = pd.read_excel('Marriott Chicago reviews.xlsx')\n",
    "df.head()"
   ]
  },
  {
   "cell_type": "markdown",
   "metadata": {},
   "source": [
    "#### Review data about New York hotel"
   ]
  },
  {
   "cell_type": "code",
   "execution_count": 214,
   "metadata": {},
   "outputs": [],
   "source": [
    "# data on New York Marriot Downtown \n",
    "ny_review_profile = np.array([8.4, 8.6, 8.9, 8.9, 7.9, 9.0])\n"
   ]
  },
  {
   "cell_type": "markdown",
   "metadata": {},
   "source": [
    "### 1.2 Similarity comparison of of review profiles\n"
   ]
  },
  {
   "cell_type": "markdown",
   "metadata": {},
   "source": [
    "#### Evaluate similarity of review profiles of Chicago and New York hotels"
   ]
  },
  {
   "cell_type": "code",
   "execution_count": 219,
   "metadata": {},
   "outputs": [
    {
     "data": {
      "text/html": [
       "<div>\n",
       "<style scoped>\n",
       "    .dataframe tbody tr th:only-of-type {\n",
       "        vertical-align: middle;\n",
       "    }\n",
       "\n",
       "    .dataframe tbody tr th {\n",
       "        vertical-align: top;\n",
       "    }\n",
       "\n",
       "    .dataframe thead th {\n",
       "        text-align: right;\n",
       "    }\n",
       "</style>\n",
       "<table border=\"1\" class=\"dataframe\">\n",
       "  <thead>\n",
       "    <tr style=\"text-align: right;\">\n",
       "      <th></th>\n",
       "      <th>Name</th>\n",
       "      <th>Staff</th>\n",
       "      <th>Facilities</th>\n",
       "      <th>Cleanliness</th>\n",
       "      <th>Comfort</th>\n",
       "      <th>Value for money</th>\n",
       "      <th>Location</th>\n",
       "      <th>Rev_dist</th>\n",
       "      <th>Rev_rank</th>\n",
       "    </tr>\n",
       "  </thead>\n",
       "  <tbody>\n",
       "    <tr>\n",
       "      <td>0</td>\n",
       "      <td>Chicago Marriott Southwest at Burr Ridge</td>\n",
       "      <td>8.4</td>\n",
       "      <td>8.6</td>\n",
       "      <td>8.7</td>\n",
       "      <td>9.0</td>\n",
       "      <td>8.1</td>\n",
       "      <td>8.6</td>\n",
       "      <td>20.587258</td>\n",
       "      <td>4.0</td>\n",
       "    </tr>\n",
       "    <tr>\n",
       "      <td>1</td>\n",
       "      <td>Chicago Marriott at Medical District/UIC</td>\n",
       "      <td>9.1</td>\n",
       "      <td>8.8</td>\n",
       "      <td>9.3</td>\n",
       "      <td>9.3</td>\n",
       "      <td>8.0</td>\n",
       "      <td>8.9</td>\n",
       "      <td>21.415210</td>\n",
       "      <td>7.0</td>\n",
       "    </tr>\n",
       "    <tr>\n",
       "      <td>2</td>\n",
       "      <td>JW Marriott Chicago</td>\n",
       "      <td>8.7</td>\n",
       "      <td>8.5</td>\n",
       "      <td>8.7</td>\n",
       "      <td>8.7</td>\n",
       "      <td>7.7</td>\n",
       "      <td>8.9</td>\n",
       "      <td>20.511733</td>\n",
       "      <td>3.0</td>\n",
       "    </tr>\n",
       "    <tr>\n",
       "      <td>3</td>\n",
       "      <td>Chicago Marriott Downtown Magnificent Mile</td>\n",
       "      <td>8.8</td>\n",
       "      <td>8.6</td>\n",
       "      <td>8.9</td>\n",
       "      <td>8.9</td>\n",
       "      <td>8.0</td>\n",
       "      <td>9.4</td>\n",
       "      <td>21.088366</td>\n",
       "      <td>6.0</td>\n",
       "    </tr>\n",
       "    <tr>\n",
       "      <td>4</td>\n",
       "      <td>Marriott Marquis Chicago</td>\n",
       "      <td>8.9</td>\n",
       "      <td>9.1</td>\n",
       "      <td>9.3</td>\n",
       "      <td>9.3</td>\n",
       "      <td>8.0</td>\n",
       "      <td>8.9</td>\n",
       "      <td>21.455051</td>\n",
       "      <td>8.0</td>\n",
       "    </tr>\n",
       "  </tbody>\n",
       "</table>\n",
       "</div>"
      ],
      "text/plain": [
       "                                         Name  Staff  Facilities  Cleanliness  \\\n",
       "0    Chicago Marriott Southwest at Burr Ridge    8.4         8.6          8.7   \n",
       "1    Chicago Marriott at Medical District/UIC    9.1         8.8          9.3   \n",
       "2                         JW Marriott Chicago    8.7         8.5          8.7   \n",
       "3  Chicago Marriott Downtown Magnificent Mile    8.8         8.6          8.9   \n",
       "4                    Marriott Marquis Chicago    8.9         9.1          9.3   \n",
       "\n",
       "   Comfort  Value for money  Location   Rev_dist  Rev_rank  \n",
       "0      9.0              8.1       8.6  20.587258       4.0  \n",
       "1      9.3              8.0       8.9  21.415210       7.0  \n",
       "2      8.7              7.7       8.9  20.511733       3.0  \n",
       "3      8.9              8.0       9.4  21.088366       6.0  \n",
       "4      9.3              8.0       8.9  21.455051       8.0  "
      ]
     },
     "execution_count": 219,
     "metadata": {},
     "output_type": "execute_result"
    }
   ],
   "source": [
    "rev_dist=[]\n",
    "X = np.array(ny_neighb_profile)\n",
    "for i in range(df.shape[0]):\n",
    "    Y=np.array(df[['Staff','Facilities','Cleanliness','Comfort','Value for money','Location']].iloc[i])\n",
    "    rev_dist.append(distance.minkowski(X, Y, 2))\n",
    "df['Rev_dist']=rev_dist\n",
    "df['Rev_rank']=df['Rev_dist'].rank()\n",
    "df.to_excel(r'C:\\Users\\Mindaugas\\Desktop\\capstone project\\Chicago review profiles.xlsx') # save to file\n",
    "df.head()"
   ]
  },
  {
   "cell_type": "markdown",
   "metadata": {},
   "source": [
    "#### Most similar hotels according to reviews profile"
   ]
  },
  {
   "cell_type": "code",
   "execution_count": 221,
   "metadata": {},
   "outputs": [
    {
     "data": {
      "text/html": [
       "<div>\n",
       "<style scoped>\n",
       "    .dataframe tbody tr th:only-of-type {\n",
       "        vertical-align: middle;\n",
       "    }\n",
       "\n",
       "    .dataframe tbody tr th {\n",
       "        vertical-align: top;\n",
       "    }\n",
       "\n",
       "    .dataframe thead th {\n",
       "        text-align: right;\n",
       "    }\n",
       "</style>\n",
       "<table border=\"1\" class=\"dataframe\">\n",
       "  <thead>\n",
       "    <tr style=\"text-align: right;\">\n",
       "      <th></th>\n",
       "      <th>Rev_rank</th>\n",
       "      <th>Name</th>\n",
       "      <th>Rev_dist</th>\n",
       "    </tr>\n",
       "  </thead>\n",
       "  <tbody>\n",
       "    <tr>\n",
       "      <td>6</td>\n",
       "      <td>1.0</td>\n",
       "      <td>Marriott Chicago O’Hare</td>\n",
       "      <td>19.578948</td>\n",
       "    </tr>\n",
       "    <tr>\n",
       "      <td>5</td>\n",
       "      <td>2.0</td>\n",
       "      <td>Chicago Marriott Midway</td>\n",
       "      <td>20.276518</td>\n",
       "    </tr>\n",
       "    <tr>\n",
       "      <td>2</td>\n",
       "      <td>3.0</td>\n",
       "      <td>JW Marriott Chicago</td>\n",
       "      <td>20.511733</td>\n",
       "    </tr>\n",
       "  </tbody>\n",
       "</table>\n",
       "</div>"
      ],
      "text/plain": [
       "   Rev_rank                     Name   Rev_dist\n",
       "6       1.0  Marriott Chicago O’Hare  19.578948\n",
       "5       2.0  Chicago Marriott Midway  20.276518\n",
       "2       3.0      JW Marriott Chicago  20.511733"
      ]
     },
     "execution_count": 221,
     "metadata": {},
     "output_type": "execute_result"
    }
   ],
   "source": [
    "df[['Rev_rank','Name','Rev_dist']].sort_values(by='Rev_dist',ascending=True)[0:3]"
   ]
  },
  {
   "cell_type": "markdown",
   "metadata": {},
   "source": [
    "## 2. Comparison of neighbourhood profiles"
   ]
  },
  {
   "cell_type": "code",
   "execution_count": 5,
   "metadata": {},
   "outputs": [],
   "source": [
    "# foursquare API credentials for geolocation\n",
    "CLIENT_ID = 'KP0R3JODDTYWNTWRFQVP5HJF4M4RW4LYIMK1M2BRACLI2FHX' # your Foursquare ID\n",
    "CLIENT_SECRET = 'MQMXU505US2M1NM0UQMNLGZBWIOD3CVN0R5IPVO430IMVQLH' # your Foursquare Secret\n",
    "VERSION = '20180604'\n"
   ]
  },
  {
   "cell_type": "markdown",
   "metadata": {},
   "source": [
    "### 2.1 Neighbourhood profile of New York Marriott Downtown"
   ]
  },
  {
   "cell_type": "markdown",
   "metadata": {},
   "source": [
    "#### Get geolocation data of hotel in New York"
   ]
  },
  {
   "cell_type": "code",
   "execution_count": 33,
   "metadata": {},
   "outputs": [
    {
     "name": "stdout",
     "output_type": "stream",
     "text": [
      "40.709426750000006 -74.01434310493437\n"
     ]
    }
   ],
   "source": [
    "# Get geolocation data of hotel in New York\n",
    "address='New York Marriott Downtown, NY'\n",
    "geolocator = Nominatim(user_agent=\"foursquare_agent\")\n",
    "location = geolocator.geocode(address)\n",
    "latitude = location.latitude\n",
    "longitude = location.longitude\n",
    "print(latitude, longitude)"
   ]
  },
  {
   "cell_type": "markdown",
   "metadata": {},
   "source": [
    "#### Send request to get data on the locations around the hotel"
   ]
  },
  {
   "cell_type": "code",
   "execution_count": 34,
   "metadata": {},
   "outputs": [],
   "source": [
    "LIMIT = 100  #  number of venues returned by Foursquare API\n",
    "radius = 500 #  radius around the hotel\n",
    "\n",
    "# call address to foursquare API\n",
    "url = 'https://api.foursquare.com/v2/venues/explore?&client_id={}&client_secret={}&v={}&ll={},{}&radius={}&limit={}'.format(\n",
    "    CLIENT_ID, \n",
    "    CLIENT_SECRET, \n",
    "    VERSION, \n",
    "    latitude, \n",
    "    longitude, \n",
    "    radius, \n",
    "    LIMIT)"
   ]
  },
  {
   "cell_type": "code",
   "execution_count": 35,
   "metadata": {},
   "outputs": [],
   "source": [
    "results = requests.get(url).json()"
   ]
  },
  {
   "cell_type": "markdown",
   "metadata": {},
   "source": [
    "#### Extract categories of the venues around the hotel"
   ]
  },
  {
   "cell_type": "code",
   "execution_count": 12,
   "metadata": {},
   "outputs": [],
   "source": [
    "# function that extracts the category of the venue\n",
    "def get_category_type(row):\n",
    "    try:\n",
    "        categories_list = row['categories']\n",
    "    except:\n",
    "        categories_list = row['venue.categories']\n",
    "        \n",
    "    if len(categories_list) == 0:\n",
    "        return None\n",
    "    else:\n",
    "        return categories_list[0]['name']"
   ]
  },
  {
   "cell_type": "code",
   "execution_count": 13,
   "metadata": {},
   "outputs": [],
   "source": [
    "venues = results['response']['groups'][0]['items']\n",
    "ny_venues = json_normalize(venues) \n",
    "\n",
    "filtered_columns = ['venue.name', 'venue.categories', 'venue.location.lat', 'venue.location.lng']\n",
    "ny_venues =ny_venues.loc[:, filtered_columns]\n",
    "\n",
    "# filter the category for each row\n",
    "ny_venues['venue.categories'] = ny_venues.apply(get_category_type, axis=1)\n",
    "# clean columns\n",
    "ny_venues.columns = [col.split(\".\")[-1] for col in ny_venues.columns]\n",
    "\n",
    "ny_venues.to_excel(r'C:\\Users\\Mindaugas\\Desktop\\capstone project\\NY hotel venues.xlsx') # save to file"
   ]
  },
  {
   "cell_type": "markdown",
   "metadata": {},
   "source": [
    "#### Show and count all unique categories of the venues around the hotel"
   ]
  },
  {
   "cell_type": "code",
   "execution_count": 39,
   "metadata": {},
   "outputs": [
    {
     "name": "stdout",
     "output_type": "stream",
     "text": [
      "63 distinct categories found\n"
     ]
    },
    {
     "data": {
      "text/plain": [
       "array(['Park', 'Memorial Site', 'Gourmet Shop', 'Coffee Shop',\n",
       "       'Jewelry Store', 'Museum', 'Pet Store', 'Lingerie Store',\n",
       "       'Food Truck', 'Pub', 'Steakhouse', 'Wine Shop', 'Garden',\n",
       "       'Auditorium', 'Dog Run', 'Gym / Fitness Center', 'Trail',\n",
       "       'Grocery Store', 'Ice Cream Shop', 'Gym', 'Tree', 'Hotel', 'Plaza',\n",
       "       'Gift Shop', 'Mexican Restaurant', 'Salad Place', 'Playground',\n",
       "       'Cooking School', 'Food Court', 'American Restaurant',\n",
       "       'Electronics Store', 'Shopping Mall', 'Pizza Place',\n",
       "       'Performing Arts Venue', 'Scenic Lookout', 'Building',\n",
       "       'French Restaurant', 'BBQ Joint', 'Monument / Landmark',\n",
       "       'Smoke Shop', 'Bar', 'Italian Restaurant', 'Café',\n",
       "       \"Doctor's Office\", 'Rental Car Location', 'Bistro', 'Beer Garden',\n",
       "       'Historic Site', 'Clothing Store', \"Women's Store\", 'Cupcake Shop',\n",
       "       'New American Restaurant', 'Deli / Bodega', 'Japanese Restaurant',\n",
       "       'Burger Joint', 'Burrito Place', 'Boat or Ferry', 'Event Space',\n",
       "       'Fried Chicken Joint', 'Department Store', 'Accessories Store',\n",
       "       'Recording Studio', 'Sandwich Place'], dtype=object)"
      ]
     },
     "execution_count": 39,
     "metadata": {},
     "output_type": "execute_result"
    }
   ],
   "source": [
    "print(str(len(ny_venues['categories'].unique())) + \" distinct categories found\")\n",
    "ny_venues['categories'].unique()"
   ]
  },
  {
   "cell_type": "code",
   "execution_count": 14,
   "metadata": {},
   "outputs": [
    {
     "data": {
      "text/html": [
       "<div>\n",
       "<style scoped>\n",
       "    .dataframe tbody tr th:only-of-type {\n",
       "        vertical-align: middle;\n",
       "    }\n",
       "\n",
       "    .dataframe tbody tr th {\n",
       "        vertical-align: top;\n",
       "    }\n",
       "\n",
       "    .dataframe thead th {\n",
       "        text-align: right;\n",
       "    }\n",
       "</style>\n",
       "<table border=\"1\" class=\"dataframe\">\n",
       "  <thead>\n",
       "    <tr style=\"text-align: right;\">\n",
       "      <th></th>\n",
       "      <th>name</th>\n",
       "      <th>categories</th>\n",
       "      <th>lat</th>\n",
       "      <th>lng</th>\n",
       "    </tr>\n",
       "  </thead>\n",
       "  <tbody>\n",
       "    <tr>\n",
       "      <td>0</td>\n",
       "      <td>Liberty Park</td>\n",
       "      <td>Park</td>\n",
       "      <td>40.710384</td>\n",
       "      <td>-74.013868</td>\n",
       "    </tr>\n",
       "    <tr>\n",
       "      <td>1</td>\n",
       "      <td>9/11 Memorial South Pool</td>\n",
       "      <td>Memorial Site</td>\n",
       "      <td>40.711039</td>\n",
       "      <td>-74.013082</td>\n",
       "    </tr>\n",
       "    <tr>\n",
       "      <td>2</td>\n",
       "      <td>Eataly Downtown</td>\n",
       "      <td>Gourmet Shop</td>\n",
       "      <td>40.710075</td>\n",
       "      <td>-74.011976</td>\n",
       "    </tr>\n",
       "    <tr>\n",
       "      <td>3</td>\n",
       "      <td>National September 11 Memorial &amp; Museum (Natio...</td>\n",
       "      <td>Memorial Site</td>\n",
       "      <td>40.711349</td>\n",
       "      <td>-74.013197</td>\n",
       "    </tr>\n",
       "    <tr>\n",
       "      <td>4</td>\n",
       "      <td>Blue Bottle Coffee</td>\n",
       "      <td>Coffee Shop</td>\n",
       "      <td>40.710589</td>\n",
       "      <td>-74.012371</td>\n",
       "    </tr>\n",
       "  </tbody>\n",
       "</table>\n",
       "</div>"
      ],
      "text/plain": [
       "                                                name     categories  \\\n",
       "0                                       Liberty Park           Park   \n",
       "1                           9/11 Memorial South Pool  Memorial Site   \n",
       "2                                    Eataly Downtown   Gourmet Shop   \n",
       "3  National September 11 Memorial & Museum (Natio...  Memorial Site   \n",
       "4                                 Blue Bottle Coffee    Coffee Shop   \n",
       "\n",
       "         lat        lng  \n",
       "0  40.710384 -74.013868  \n",
       "1  40.711039 -74.013082  \n",
       "2  40.710075 -74.011976  \n",
       "3  40.711349 -74.013197  \n",
       "4  40.710589 -74.012371  "
      ]
     },
     "execution_count": 14,
     "metadata": {},
     "output_type": "execute_result"
    }
   ],
   "source": [
    "ny_venues.head()"
   ]
  },
  {
   "cell_type": "markdown",
   "metadata": {},
   "source": [
    "#### Form the profile of the neighbourhood"
   ]
  },
  {
   "cell_type": "markdown",
   "metadata": {},
   "source": [
    "Count the number of tourist attracions and sites for seeing"
   ]
  },
  {
   "cell_type": "code",
   "execution_count": 24,
   "metadata": {},
   "outputs": [
    {
     "name": "stdout",
     "output_type": "stream",
     "text": [
      "28\n"
     ]
    }
   ],
   "source": [
    "sites_list = ['Park','Site','Museum','Auditorium','Garden','Trail','Plaza','Playground','Venue','Lookout','Building',\n",
    "             'Monument','Landmark']\n",
    "sites_count=0\n",
    "for word in sites_list:\n",
    "    for i in range(ny_venues.shape[0]): \n",
    "        if word in ny_venues['categories'].iloc[i]:\n",
    "           sites_count += 1 \n",
    "print(sites_count)"
   ]
  },
  {
   "cell_type": "markdown",
   "metadata": {},
   "source": [
    "Count the number of food and drink establishments (other than the restaurants) around the hotel"
   ]
  },
  {
   "cell_type": "code",
   "execution_count": 25,
   "metadata": {},
   "outputs": [
    {
     "name": "stdout",
     "output_type": "stream",
     "text": [
      "21\n"
     ]
    }
   ],
   "source": [
    "foods_list = ['Pub','Bar','Café','Food','Place','Joint','Bistro']\n",
    "foods_count=0\n",
    "for word in foods_list:\n",
    "    for i in range(ny_venues.shape[0]): \n",
    "        if word in ny_venues['categories'].iloc[i]:\n",
    "            foods_count += 1 \n",
    "print(foods_count)"
   ]
  },
  {
   "cell_type": "markdown",
   "metadata": {},
   "source": [
    "Count the number of shops/stores around the hotel"
   ]
  },
  {
   "cell_type": "code",
   "execution_count": 26,
   "metadata": {},
   "outputs": [
    {
     "name": "stdout",
     "output_type": "stream",
     "text": [
      "29\n"
     ]
    }
   ],
   "source": [
    "shops_list = ['Store','Shop','Mall','Deli','Bodega']\n",
    "shops_count=0\n",
    "for word in shops_list:\n",
    "    for i in range(ny_venues.shape[0]): \n",
    "        if word in ny_venues['categories'].iloc[i]:\n",
    "            shops_count += 1 \n",
    "print(shops_count)"
   ]
  },
  {
   "cell_type": "markdown",
   "metadata": {},
   "source": [
    "Count number of restaurants (other than steakhouses) around the hotel"
   ]
  },
  {
   "cell_type": "code",
   "execution_count": 27,
   "metadata": {
    "scrolled": true
   },
   "outputs": [
    {
     "name": "stdout",
     "output_type": "stream",
     "text": [
      "7\n"
     ]
    }
   ],
   "source": [
    "rests_count = 0\n",
    "for i in range(ny_venues.shape[0]):\n",
    "    if 'Restaurant' in ny_venues['categories'].iloc[i]:\n",
    "        rests_count += 1\n",
    "print(rests_count)   "
   ]
  },
  {
   "cell_type": "markdown",
   "metadata": {},
   "source": [
    "Count number of stakehouses around the hotel"
   ]
  },
  {
   "cell_type": "code",
   "execution_count": 28,
   "metadata": {},
   "outputs": [
    {
     "name": "stdout",
     "output_type": "stream",
     "text": [
      "name          Morton's The Steakhouse\n",
      "categories                 Steakhouse\n",
      "lat                           40.7097\n",
      "lng                           -74.014\n",
      "Name: 11, dtype: object\n",
      "1\n"
     ]
    }
   ],
   "source": [
    "steak_count = 0\n",
    "for i in range(ny_venues.shape[0]):\n",
    "    if 'Steakhouse' in ny_venues['categories'].iloc[i]:\n",
    "        steak_count += 1\n",
    "        print(ny_venues.iloc[i])\n",
    "print(steak_count)   "
   ]
  },
  {
   "cell_type": "markdown",
   "metadata": {},
   "source": [
    "Count number of other venues around the hotel"
   ]
  },
  {
   "cell_type": "code",
   "execution_count": 29,
   "metadata": {
    "scrolled": true
   },
   "outputs": [
    {
     "name": "stdout",
     "output_type": "stream",
     "text": [
      "14\n"
     ]
    }
   ],
   "source": [
    "others_count = ny_venues.shape[0]-sites_count-rests_count-foods_count-steak_count-shops_count\n",
    "print(others_count)"
   ]
  },
  {
   "cell_type": "markdown",
   "metadata": {},
   "source": [
    "#### Form neighbourhood profile of New York Marriott Downtown"
   ]
  },
  {
   "cell_type": "code",
   "execution_count": 30,
   "metadata": {},
   "outputs": [
    {
     "name": "stdout",
     "output_type": "stream",
     "text": [
      "[0.28 0.29 0.21 0.07 0.01 0.14]\n"
     ]
    }
   ],
   "source": [
    "ny_neighb_profile = np.array([sites_count, shops_count, foods_count, rests_count, steak_count, others_count])/ny_venues.shape[0]\n",
    "print(str(ny_neighb_profile))                       "
   ]
  },
  {
   "cell_type": "markdown",
   "metadata": {},
   "source": [
    "### 2.2 Neighbourhood profiles of Chicago hotels"
   ]
  },
  {
   "cell_type": "markdown",
   "metadata": {},
   "source": [
    "### 2.2.1  Data extraction"
   ]
  },
  {
   "cell_type": "markdown",
   "metadata": {},
   "source": [
    "#### Get geolocation data of Chicago hotels"
   ]
  },
  {
   "cell_type": "code",
   "execution_count": 41,
   "metadata": {},
   "outputs": [],
   "source": [
    "Latitude=[]; Longitude=[]\n",
    "for i in  range(df.shape[0]):\n",
    "    geolocator = Nominatim(user_agent=\"foursquare_agent\")\n",
    "    address = df['Name'].iloc[i]\n",
    "    location = geolocator.geocode(address)\n",
    "    Latitude.append(location.latitude)\n",
    "    Longitude.append(location.longitude)\n",
    "    \n",
    "df['Latitude']=pd.Series(Latitude)\n",
    "df['Longitude']=pd.Series(Longitude)\n"
   ]
  },
  {
   "cell_type": "code",
   "execution_count": 177,
   "metadata": {
    "scrolled": true
   },
   "outputs": [
    {
     "data": {
      "text/html": [
       "<div>\n",
       "<style scoped>\n",
       "    .dataframe tbody tr th:only-of-type {\n",
       "        vertical-align: middle;\n",
       "    }\n",
       "\n",
       "    .dataframe tbody tr th {\n",
       "        vertical-align: top;\n",
       "    }\n",
       "\n",
       "    .dataframe thead th {\n",
       "        text-align: right;\n",
       "    }\n",
       "</style>\n",
       "<table border=\"1\" class=\"dataframe\">\n",
       "  <thead>\n",
       "    <tr style=\"text-align: right;\">\n",
       "      <th></th>\n",
       "      <th>Name</th>\n",
       "      <th>Latitude</th>\n",
       "      <th>Longitude</th>\n",
       "    </tr>\n",
       "  </thead>\n",
       "  <tbody>\n",
       "    <tr>\n",
       "      <td>0</td>\n",
       "      <td>Chicago Marriott Southwest at Burr Ridge</td>\n",
       "      <td>41.756057</td>\n",
       "      <td>-87.909524</td>\n",
       "    </tr>\n",
       "    <tr>\n",
       "      <td>1</td>\n",
       "      <td>Chicago Marriott at Medical District/UIC</td>\n",
       "      <td>41.873734</td>\n",
       "      <td>-87.666157</td>\n",
       "    </tr>\n",
       "    <tr>\n",
       "      <td>2</td>\n",
       "      <td>JW Marriott Chicago</td>\n",
       "      <td>41.879074</td>\n",
       "      <td>-87.633011</td>\n",
       "    </tr>\n",
       "    <tr>\n",
       "      <td>3</td>\n",
       "      <td>Chicago Marriott Downtown Magnificent Mile</td>\n",
       "      <td>41.892122</td>\n",
       "      <td>-87.624854</td>\n",
       "    </tr>\n",
       "    <tr>\n",
       "      <td>4</td>\n",
       "      <td>Marriott Marquis Chicago</td>\n",
       "      <td>41.853899</td>\n",
       "      <td>-87.620267</td>\n",
       "    </tr>\n",
       "  </tbody>\n",
       "</table>\n",
       "</div>"
      ],
      "text/plain": [
       "                                         Name   Latitude  Longitude\n",
       "0    Chicago Marriott Southwest at Burr Ridge  41.756057 -87.909524\n",
       "1    Chicago Marriott at Medical District/UIC  41.873734 -87.666157\n",
       "2                         JW Marriott Chicago  41.879074 -87.633011\n",
       "3  Chicago Marriott Downtown Magnificent Mile  41.892122 -87.624854\n",
       "4                    Marriott Marquis Chicago  41.853899 -87.620267"
      ]
     },
     "execution_count": 177,
     "metadata": {},
     "output_type": "execute_result"
    }
   ],
   "source": [
    "df[['Name','Latitude','Longitude']].head()  "
   ]
  },
  {
   "cell_type": "markdown",
   "metadata": {},
   "source": [
    "#### Extract data about the venues around Chicago hotels and form neihgbourhood profiles"
   ]
  },
  {
   "cell_type": "code",
   "execution_count": 130,
   "metadata": {},
   "outputs": [],
   "source": [
    "sites_list = ['Park','Site','Museum','Auditorium','Garden','Trail','Plaza','Playground','Venue','Lookout','Building',\n",
    "             'Monument','Landmark']\n",
    "foods_list = ['Pub','Bar','Café','Food','Place','Joint','Bistro']\n",
    "shops_list = ['Store','Shop','Mall','Deli','Bodega']\n",
    "\n",
    "\n",
    "chi_neighb_profiles=[]\n",
    "radius=500\n",
    "LIMIT=100\n",
    "\n",
    "for i in range(df.shape[0]):\n",
    "    # ------------------------coordinates of the hotel----------------------------------\n",
    "    lat = df['Latitude'].iloc[i] \n",
    "    lng = df['Longitude'].iloc[i]\n",
    "    \n",
    "    #--------------------- create the API request URL-----------------------------------\n",
    "    url = 'https://api.foursquare.com/v2/venues/explore?&client_id={}&client_secret={}&v={}&ll={},{}&radius={}&limit={}'.format(\n",
    "            CLIENT_ID, \n",
    "            CLIENT_SECRET, \n",
    "            VERSION, \n",
    "            lat, \n",
    "            lng, \n",
    "            radius, \n",
    "            LIMIT)\n",
    "    results = requests.get(url).json()\n",
    "    \n",
    "    #----------------- extract categories of venues around the hotel-------------------------------\n",
    "    venue = results['response']['groups'][0]['items']\n",
    "    chicago_venue = json_normalize(venue) \n",
    "    categories=chicago_venue.apply(get_category_type, axis=1)\n",
    "    filtered_columns = ['venue.name', 'venue.categories']\n",
    "    chicago_venue =chicago_venue.loc[:, filtered_columns]\n",
    "    chicago_venue['venue.categories'] = chicago_venue.apply(get_category_type, axis=1)\n",
    "    chicago_venue.columns = [col.split(\".\")[-1] for col in chicago_venue.columns]\n",
    "\n",
    "    #-------------- count categories and form neighbourhood profile of the Chicago venue----------------------\n",
    "    # sites\n",
    "    sites_count=0\n",
    "    for word in sites_list:\n",
    "        for i in range(chicago_venue.shape[0]): \n",
    "            if word in chicago_venue['categories'].iloc[i]:\n",
    "               sites_count += 1             \n",
    "    # food \n",
    "    foods_count=0\n",
    "    for word in foods_list:\n",
    "        for i in range(chicago_venue.shape[0]): \n",
    "            if word in chicago_venue['categories'].iloc[i]:\n",
    "                foods_count += 1 \n",
    "    # restaurants\n",
    "    rests_count = 0\n",
    "    for i in range(chicago_venue.shape[0]):\n",
    "        if 'Restaurant' in chicago_venue['categories'].iloc[i]:\n",
    "            rests_count += 1\n",
    "    # shops\n",
    "    shops_count=0\n",
    "    for word in shops_list:\n",
    "        for i in range(chicago_venue.shape[0]): \n",
    "            if word in chicago_venue['categories'].iloc[i]:\n",
    "                shops_count += 1             \n",
    "    # steakhouses\n",
    "    steak_count = 0\n",
    "    for i in range(chicago_venue.shape[0]):\n",
    "        if 'Steakhouse' in chicago_venue['categories'].iloc[i]:\n",
    "            steak_count += 1       \n",
    "    others_count = chicago_venue.shape[0]-sites_count-rests_count-foods_count-steak_count-shops_count\n",
    "\n",
    "    #-------------- form and store neighbourhoods profile\n",
    "    neighb_profile = np.array([sites_count, shops_count, foods_count, rests_count, steak_count, others_count])/chicago_venue.shape[0]\n",
    "    chi_neighb_profiles.append(neighb_profile)\n",
    "    "
   ]
  },
  {
   "cell_type": "markdown",
   "metadata": {},
   "source": [
    "#### Store extracted data in a new dataframe and save to file"
   ]
  },
  {
   "cell_type": "code",
   "execution_count": 149,
   "metadata": {},
   "outputs": [
    {
     "data": {
      "text/html": [
       "<div>\n",
       "<style scoped>\n",
       "    .dataframe tbody tr th:only-of-type {\n",
       "        vertical-align: middle;\n",
       "    }\n",
       "\n",
       "    .dataframe tbody tr th {\n",
       "        vertical-align: top;\n",
       "    }\n",
       "\n",
       "    .dataframe thead th {\n",
       "        text-align: right;\n",
       "    }\n",
       "</style>\n",
       "<table border=\"1\" class=\"dataframe\">\n",
       "  <thead>\n",
       "    <tr style=\"text-align: right;\">\n",
       "      <th></th>\n",
       "      <th>Name</th>\n",
       "      <th>Sites</th>\n",
       "      <th>Shops</th>\n",
       "      <th>Foods</th>\n",
       "      <th>Restaurants</th>\n",
       "      <th>Steakhouses</th>\n",
       "      <th>Other</th>\n",
       "      <th>Latitude</th>\n",
       "      <th>Longitude</th>\n",
       "    </tr>\n",
       "  </thead>\n",
       "  <tbody>\n",
       "    <tr>\n",
       "      <td>0</td>\n",
       "      <td>Chicago Marriott Southwest at Burr Ridge</td>\n",
       "      <td>0.062500</td>\n",
       "      <td>0.562500</td>\n",
       "      <td>0.000000</td>\n",
       "      <td>0.187500</td>\n",
       "      <td>0.00</td>\n",
       "      <td>0.187500</td>\n",
       "      <td>41.756057</td>\n",
       "      <td>-87.909524</td>\n",
       "    </tr>\n",
       "    <tr>\n",
       "      <td>1</td>\n",
       "      <td>Chicago Marriott at Medical District/UIC</td>\n",
       "      <td>0.000000</td>\n",
       "      <td>0.214286</td>\n",
       "      <td>0.285714</td>\n",
       "      <td>0.214286</td>\n",
       "      <td>0.00</td>\n",
       "      <td>0.285714</td>\n",
       "      <td>41.873734</td>\n",
       "      <td>-87.666157</td>\n",
       "    </tr>\n",
       "    <tr>\n",
       "      <td>2</td>\n",
       "      <td>JW Marriott Chicago</td>\n",
       "      <td>0.059524</td>\n",
       "      <td>0.261905</td>\n",
       "      <td>0.297619</td>\n",
       "      <td>0.250000</td>\n",
       "      <td>0.00</td>\n",
       "      <td>0.130952</td>\n",
       "      <td>41.879074</td>\n",
       "      <td>-87.633011</td>\n",
       "    </tr>\n",
       "    <tr>\n",
       "      <td>3</td>\n",
       "      <td>Chicago Marriott Downtown Magnificent Mile</td>\n",
       "      <td>0.030000</td>\n",
       "      <td>0.270000</td>\n",
       "      <td>0.160000</td>\n",
       "      <td>0.300000</td>\n",
       "      <td>0.05</td>\n",
       "      <td>0.190000</td>\n",
       "      <td>41.892122</td>\n",
       "      <td>-87.624854</td>\n",
       "    </tr>\n",
       "    <tr>\n",
       "      <td>4</td>\n",
       "      <td>Marriott Marquis Chicago</td>\n",
       "      <td>0.134615</td>\n",
       "      <td>0.076923</td>\n",
       "      <td>0.230769</td>\n",
       "      <td>0.211538</td>\n",
       "      <td>0.00</td>\n",
       "      <td>0.346154</td>\n",
       "      <td>41.853899</td>\n",
       "      <td>-87.620267</td>\n",
       "    </tr>\n",
       "  </tbody>\n",
       "</table>\n",
       "</div>"
      ],
      "text/plain": [
       "                                         Name     Sites     Shops     Foods  \\\n",
       "0    Chicago Marriott Southwest at Burr Ridge  0.062500  0.562500  0.000000   \n",
       "1    Chicago Marriott at Medical District/UIC  0.000000  0.214286  0.285714   \n",
       "2                         JW Marriott Chicago  0.059524  0.261905  0.297619   \n",
       "3  Chicago Marriott Downtown Magnificent Mile  0.030000  0.270000  0.160000   \n",
       "4                    Marriott Marquis Chicago  0.134615  0.076923  0.230769   \n",
       "\n",
       "   Restaurants  Steakhouses     Other   Latitude  Longitude  \n",
       "0     0.187500         0.00  0.187500  41.756057 -87.909524  \n",
       "1     0.214286         0.00  0.285714  41.873734 -87.666157  \n",
       "2     0.250000         0.00  0.130952  41.879074 -87.633011  \n",
       "3     0.300000         0.05  0.190000  41.892122 -87.624854  \n",
       "4     0.211538         0.00  0.346154  41.853899 -87.620267  "
      ]
     },
     "execution_count": 149,
     "metadata": {},
     "output_type": "execute_result"
    }
   ],
   "source": [
    "chi_neighb = pd.DataFrame( chi_neighb_profiles, columns = ['Sites','Shops','Foods','Restaurants','Steakhouses','Other'])\n",
    "chi_neighb['Name']=df['Name']; \n",
    "chi_neighb['Latitude']=df['Latitude']; chi_neighb['Longitude']=df['Longitude']\n",
    "chi_neighb[['Name','Sites','Shops','Foods','Restaurants','Steakhouses','Other','Latitude','Longitude']].head()\n"
   ]
  },
  {
   "cell_type": "markdown",
   "metadata": {},
   "source": [
    "### 2.2.2  Similarity comparison of neighbourhood profiles"
   ]
  },
  {
   "cell_type": "markdown",
   "metadata": {},
   "source": [
    "#### Evaluate similarity of neighbourhood profiles of Chicago and New York hotels"
   ]
  },
  {
   "cell_type": "code",
   "execution_count": 223,
   "metadata": {},
   "outputs": [],
   "source": [
    "neighb_dist=[]\n",
    "X = np.array(ny_neighb_profile)\n",
    "for i in range(chi_neighb.shape[0]):\n",
    "    Y=np.array(chi_neighb[['Sites','Shops','Foods','Restaurants','Steakhouses','Other']].iloc[i])\n",
    "    neighb_dist.append(distance.minkowski(X, Y, 2))\n",
    "chi_neighb['Neighb_dist']=neighb_dist\n",
    "chi_neighb['Neighb_rank']=chi_neighb['Neighb_dist'].rank()\n",
    "chi_neighb.to_excel(r'C:\\Users\\Mindaugas\\Desktop\\capstone project\\Chicago neighbourhood profiles.xlsx') # save to file\n"
   ]
  },
  {
   "cell_type": "markdown",
   "metadata": {},
   "source": [
    "#### Most similar hotels according to neighbourhood profile"
   ]
  },
  {
   "cell_type": "code",
   "execution_count": 226,
   "metadata": {},
   "outputs": [
    {
     "data": {
      "text/html": [
       "<div>\n",
       "<style scoped>\n",
       "    .dataframe tbody tr th:only-of-type {\n",
       "        vertical-align: middle;\n",
       "    }\n",
       "\n",
       "    .dataframe tbody tr th {\n",
       "        vertical-align: top;\n",
       "    }\n",
       "\n",
       "    .dataframe thead th {\n",
       "        text-align: right;\n",
       "    }\n",
       "</style>\n",
       "<table border=\"1\" class=\"dataframe\">\n",
       "  <thead>\n",
       "    <tr style=\"text-align: right;\">\n",
       "      <th></th>\n",
       "      <th>Neighb_rank</th>\n",
       "      <th>Name</th>\n",
       "      <th>Neighb_dist</th>\n",
       "    </tr>\n",
       "  </thead>\n",
       "  <tbody>\n",
       "    <tr>\n",
       "      <td>7</td>\n",
       "      <td>1.0</td>\n",
       "      <td>Chicago Marriott Suites O’Hare</td>\n",
       "      <td>0.211276</td>\n",
       "    </tr>\n",
       "    <tr>\n",
       "      <td>2</td>\n",
       "      <td>2.0</td>\n",
       "      <td>JW Marriott Chicago</td>\n",
       "      <td>0.299430</td>\n",
       "    </tr>\n",
       "    <tr>\n",
       "      <td>3</td>\n",
       "      <td>3.0</td>\n",
       "      <td>Chicago Marriott Downtown Magnificent Mile</td>\n",
       "      <td>0.349857</td>\n",
       "    </tr>\n",
       "    <tr>\n",
       "      <td>4</td>\n",
       "      <td>4.5</td>\n",
       "      <td>Marriott Marquis Chicago</td>\n",
       "      <td>0.360003</td>\n",
       "    </tr>\n",
       "    <tr>\n",
       "      <td>8</td>\n",
       "      <td>4.5</td>\n",
       "      <td>Chicago Marriott Oak Brook</td>\n",
       "      <td>0.360003</td>\n",
       "    </tr>\n",
       "    <tr>\n",
       "      <td>1</td>\n",
       "      <td>6.0</td>\n",
       "      <td>Chicago Marriott at Medical District/UIC</td>\n",
       "      <td>0.363341</td>\n",
       "    </tr>\n",
       "    <tr>\n",
       "      <td>6</td>\n",
       "      <td>7.0</td>\n",
       "      <td>Marriott Chicago O’Hare</td>\n",
       "      <td>0.403980</td>\n",
       "    </tr>\n",
       "    <tr>\n",
       "      <td>0</td>\n",
       "      <td>8.0</td>\n",
       "      <td>Chicago Marriott Southwest at Burr Ridge</td>\n",
       "      <td>0.426409</td>\n",
       "    </tr>\n",
       "    <tr>\n",
       "      <td>5</td>\n",
       "      <td>9.0</td>\n",
       "      <td>Chicago Marriott Midway</td>\n",
       "      <td>0.431476</td>\n",
       "    </tr>\n",
       "  </tbody>\n",
       "</table>\n",
       "</div>"
      ],
      "text/plain": [
       "   Neighb_rank                                        Name  Neighb_dist\n",
       "7          1.0              Chicago Marriott Suites O’Hare     0.211276\n",
       "2          2.0                         JW Marriott Chicago     0.299430\n",
       "3          3.0  Chicago Marriott Downtown Magnificent Mile     0.349857\n",
       "4          4.5                    Marriott Marquis Chicago     0.360003\n",
       "8          4.5                  Chicago Marriott Oak Brook     0.360003\n",
       "1          6.0    Chicago Marriott at Medical District/UIC     0.363341\n",
       "6          7.0                     Marriott Chicago O’Hare     0.403980\n",
       "0          8.0    Chicago Marriott Southwest at Burr Ridge     0.426409\n",
       "5          9.0                     Chicago Marriott Midway     0.431476"
      ]
     },
     "execution_count": 226,
     "metadata": {},
     "output_type": "execute_result"
    }
   ],
   "source": [
    "chi_neighb[['Neighb_rank','Name','Neighb_dist']].sort_values(by='Neighb_dist',ascending=True)[0:9]"
   ]
  },
  {
   "cell_type": "markdown",
   "metadata": {},
   "source": [
    "## 3. Joint comparison"
   ]
  },
  {
   "cell_type": "markdown",
   "metadata": {},
   "source": [
    "### 3.1 Evaluate joint ranks of similarity"
   ]
  },
  {
   "cell_type": "markdown",
   "metadata": {},
   "source": [
    "We define a joint similarity index, which is the sum of similarity ranks based on both reviews and neighbourhood profiles. The lower the sum of ranks indicates the higher similarity between hotels.  "
   ]
  },
  {
   "cell_type": "markdown",
   "metadata": {},
   "source": [
    "#### Estimate joint similarity index"
   ]
  },
  {
   "cell_type": "code",
   "execution_count": 227,
   "metadata": {},
   "outputs": [],
   "source": [
    "rank_sum=df['Rev_rank']+chi_neighb['Neighb_rank']\n",
    "df['Joint rank']=rank_sum"
   ]
  },
  {
   "cell_type": "markdown",
   "metadata": {},
   "source": [
    "#### Most similar hotels according to both reviews and neighbourhood profile"
   ]
  },
  {
   "cell_type": "code",
   "execution_count": 228,
   "metadata": {},
   "outputs": [
    {
     "data": {
      "text/html": [
       "<div>\n",
       "<style scoped>\n",
       "    .dataframe tbody tr th:only-of-type {\n",
       "        vertical-align: middle;\n",
       "    }\n",
       "\n",
       "    .dataframe tbody tr th {\n",
       "        vertical-align: top;\n",
       "    }\n",
       "\n",
       "    .dataframe thead th {\n",
       "        text-align: right;\n",
       "    }\n",
       "</style>\n",
       "<table border=\"1\" class=\"dataframe\">\n",
       "  <thead>\n",
       "    <tr style=\"text-align: right;\">\n",
       "      <th></th>\n",
       "      <th>Name</th>\n",
       "      <th>Joint rank</th>\n",
       "    </tr>\n",
       "  </thead>\n",
       "  <tbody>\n",
       "    <tr>\n",
       "      <td>2</td>\n",
       "      <td>JW Marriott Chicago</td>\n",
       "      <td>5.0</td>\n",
       "    </tr>\n",
       "    <tr>\n",
       "      <td>6</td>\n",
       "      <td>Marriott Chicago O’Hare</td>\n",
       "      <td>8.0</td>\n",
       "    </tr>\n",
       "    <tr>\n",
       "      <td>3</td>\n",
       "      <td>Chicago Marriott Downtown Magnificent Mile</td>\n",
       "      <td>9.0</td>\n",
       "    </tr>\n",
       "  </tbody>\n",
       "</table>\n",
       "</div>"
      ],
      "text/plain": [
       "                                         Name  Joint rank\n",
       "2                         JW Marriott Chicago         5.0\n",
       "6                     Marriott Chicago O’Hare         8.0\n",
       "3  Chicago Marriott Downtown Magnificent Mile         9.0"
      ]
     },
     "execution_count": 228,
     "metadata": {},
     "output_type": "execute_result"
    }
   ],
   "source": [
    "df[['Name','Joint rank']].sort_values(by='Joint rank',ascending=True)[0:3]"
   ]
  },
  {
   "cell_type": "markdown",
   "metadata": {},
   "source": [
    "Thus, JW Marriott Chicago seems to show highest similarity to New York Marriott Downtown based on joint rank sum index."
   ]
  },
  {
   "cell_type": "markdown",
   "metadata": {},
   "source": [
    "### 3.2 Clusterization of hotels based on similarity of reviews and neighbourhood profiles"
   ]
  },
  {
   "cell_type": "markdown",
   "metadata": {},
   "source": [
    "#### Extract and visualize data"
   ]
  },
  {
   "cell_type": "code",
   "execution_count": 277,
   "metadata": {},
   "outputs": [
    {
     "data": {
      "image/png": "[encoded data removed]",
      "text/plain": [
       "<Figure size 432x288 with 1 Axes>"
      ]
     },
     "metadata": {
      "needs_background": "light"
     },
     "output_type": "display_data"
    }
   ],
   "source": [
    "X=np.zeros([df.shape[0],2])\n",
    "X[:,0]=np.array(df['Rev_dist'])\n",
    "X[:,1]=np.array(chi_neighb['Neighb_dist'])\n",
    "X = StandardScaler().fit_transform(X)\n",
    "plt.scatter(X[:,0],X[:,1])\n",
    "plt.title('Normalized distances')\n",
    "plt.xlabel('Review profiles')\n",
    "plt.ylabel('Neighbourhood profiles')\n",
    "plt.axis('equal')\n",
    "plt.show()"
   ]
  },
  {
   "cell_type": "markdown",
   "metadata": {},
   "source": [
    "#### Cluster data using k-nearest neighbours algorithm\n"
   ]
  },
  {
   "cell_type": "code",
   "execution_count": 278,
   "metadata": {},
   "outputs": [
    {
     "data": {
      "text/plain": [
       "array([1, 0, 0, 0, 0, 1, 1, 2, 0])"
      ]
     },
     "execution_count": 278,
     "metadata": {},
     "output_type": "execute_result"
    }
   ],
   "source": [
    "k = 3 # number of clusters\n",
    "knn = KMeans(n_clusters=k, random_state=9).fit(X)\n",
    "knn.labels_"
   ]
  },
  {
   "cell_type": "markdown",
   "metadata": {},
   "source": [
    "#### Cluster labels of the hotels\n"
   ]
  },
  {
   "cell_type": "code",
   "execution_count": 279,
   "metadata": {},
   "outputs": [
    {
     "data": {
      "text/html": [
       "<div>\n",
       "<style scoped>\n",
       "    .dataframe tbody tr th:only-of-type {\n",
       "        vertical-align: middle;\n",
       "    }\n",
       "\n",
       "    .dataframe tbody tr th {\n",
       "        vertical-align: top;\n",
       "    }\n",
       "\n",
       "    .dataframe thead th {\n",
       "        text-align: right;\n",
       "    }\n",
       "</style>\n",
       "<table border=\"1\" class=\"dataframe\">\n",
       "  <thead>\n",
       "    <tr style=\"text-align: right;\">\n",
       "      <th></th>\n",
       "      <th>Name</th>\n",
       "      <th>Cluster</th>\n",
       "    </tr>\n",
       "  </thead>\n",
       "  <tbody>\n",
       "    <tr>\n",
       "      <td>0</td>\n",
       "      <td>Chicago Marriott Southwest at Burr Ridge</td>\n",
       "      <td>1</td>\n",
       "    </tr>\n",
       "    <tr>\n",
       "      <td>1</td>\n",
       "      <td>Chicago Marriott at Medical District/UIC</td>\n",
       "      <td>0</td>\n",
       "    </tr>\n",
       "    <tr>\n",
       "      <td>2</td>\n",
       "      <td>JW Marriott Chicago</td>\n",
       "      <td>0</td>\n",
       "    </tr>\n",
       "    <tr>\n",
       "      <td>3</td>\n",
       "      <td>Chicago Marriott Downtown Magnificent Mile</td>\n",
       "      <td>0</td>\n",
       "    </tr>\n",
       "    <tr>\n",
       "      <td>4</td>\n",
       "      <td>Marriott Marquis Chicago</td>\n",
       "      <td>0</td>\n",
       "    </tr>\n",
       "    <tr>\n",
       "      <td>5</td>\n",
       "      <td>Chicago Marriott Midway</td>\n",
       "      <td>1</td>\n",
       "    </tr>\n",
       "    <tr>\n",
       "      <td>6</td>\n",
       "      <td>Marriott Chicago O’Hare</td>\n",
       "      <td>1</td>\n",
       "    </tr>\n",
       "    <tr>\n",
       "      <td>7</td>\n",
       "      <td>Chicago Marriott Suites O’Hare</td>\n",
       "      <td>2</td>\n",
       "    </tr>\n",
       "    <tr>\n",
       "      <td>8</td>\n",
       "      <td>Chicago Marriott Oak Brook</td>\n",
       "      <td>0</td>\n",
       "    </tr>\n",
       "  </tbody>\n",
       "</table>\n",
       "</div>"
      ],
      "text/plain": [
       "                                         Name  Cluster\n",
       "0    Chicago Marriott Southwest at Burr Ridge        1\n",
       "1    Chicago Marriott at Medical District/UIC        0\n",
       "2                         JW Marriott Chicago        0\n",
       "3  Chicago Marriott Downtown Magnificent Mile        0\n",
       "4                    Marriott Marquis Chicago        0\n",
       "5                     Chicago Marriott Midway        1\n",
       "6                     Marriott Chicago O’Hare        1\n",
       "7              Chicago Marriott Suites O’Hare        2\n",
       "8                  Chicago Marriott Oak Brook        0"
      ]
     },
     "execution_count": 279,
     "metadata": {},
     "output_type": "execute_result"
    }
   ],
   "source": [
    "df['Cluster']=knn.labels_\n",
    "df[['Name','Cluster']]"
   ]
  },
  {
   "cell_type": "markdown",
   "metadata": {},
   "source": [
    "#### Visualize clusters "
   ]
  },
  {
   "cell_type": "code",
   "execution_count": 280,
   "metadata": {},
   "outputs": [
    {
     "data": {
      "image/png": "[encoded data removed]",
      "text/plain": [
       "<Figure size 432x288 with 1 Axes>"
      ]
     },
     "metadata": {
      "needs_background": "light"
     },
     "output_type": "display_data"
    }
   ],
   "source": [
    "fig = plt.figure(figsize=(6, 4))\n",
    "colors = plt.cm.Spectral(np.linspace(0, 0.8, len(set(knn.labels_))))\n",
    "ax = fig.add_subplot(1, 1, 1)\n",
    "\n",
    "\n",
    "for k, col in zip(range(len([[4,4], [-2, -1], [2, -3], [1, 1]])), colors):\n",
    "    my_members = (knn.labels_ == k)\n",
    "    cluster_center = knn.cluster_centers_[k]\n",
    "    ax.plot(X[my_members, 0], X[my_members, 1], 'w', markerfacecolor=col, marker='o',markersize=9)\n",
    "\n",
    "plt.title('Clusters of normalized distances')\n",
    "plt.xlabel('Review profiles')\n",
    "plt.ylabel('Neighbourhood profiles')\n",
    "plt.axis('equal')\n",
    "plt.show()"
   ]
  },
  {
   "cell_type": "code",
   "execution_count": null,
   "metadata": {},
   "outputs": [],
   "source": []
  }
 ],
 "metadata": {
  "kernelspec": {
   "display_name": "Python 3",
   "language": "python",
   "name": "python3"
  },
  "language_info": {
   "codemirror_mode": {
    "name": "ipython",
    "version": 3
   },
   "file_extension": ".py",
   "mimetype": "text/x-python",
   "name": "python",
   "nbconvert_exporter": "python",
   "pygments_lexer": "ipython3",
   "version": "3.7.4"
  }
 },
 "nbformat": 4,
 "nbformat_minor": 2
}
